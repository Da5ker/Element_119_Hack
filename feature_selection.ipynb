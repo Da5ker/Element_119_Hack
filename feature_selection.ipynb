{
 "cells": [
  {
   "metadata": {
    "ExecuteTime": {
     "end_time": "2025-04-22T22:16:51.362368Z",
     "start_time": "2025-04-22T22:16:51.356421Z"
    }
   },
   "cell_type": "code",
   "source": [
    "import numpy as np\n",
    "import pandas as pd\n",
    "from tqdm import tqdm\n",
    "\n",
    "import xgboost as xgb\n",
    "from boruta import BorutaPy\n",
    "from sklearn.ensemble import RandomForestRegressor\n",
    "from sklearn.preprocessing import StandardScaler\n",
    "\n",
    "from rdkit import Chem\n",
    "from rdkit.Chem import Descriptors\n",
    "from mordred import Calculator, descriptors"
   ],
   "id": "c51b0ce3e81fdf72",
   "outputs": [],
   "execution_count": 54
  },
  {
   "metadata": {},
   "cell_type": "markdown",
   "source": [
    "# Feature Selection: Обработка и отбор молекулярных дескрипторов\n",
    "В этом блокноте происходит отбор ключевых дескрипторов для дальнейшего обучения модели. Молекулярные дескрипторы были отобраны из пакетов RDkit и Mordred. \n",
    "\n",
    "Для оптимизации признакового пространства был использован комбинированный подход, сочетающий два эффективных метода:\n",
    "1) **Feature Importance на базе XGBoost.**\n",
    "В качестве первого этапа применялся метод градиентного бустинга для обучения модели, позволяющей оценить важность каждого признака. Эта метрика, полученная через атрибут feature_importance, позволяет количественно определить вклад каждого признака в снижение ошибки модели, что даёт возможность выделить наиболее релевантные из них для дальнейшего использования.\n",
    "\n",
    "2) **Библиотека Boruta.**\n",
    "Для дополнения использован метод Boruta, который представляет собой обёртку для алгоритма Random Forest и основан на статистическом тестировании важности признаков. В процессе работы с Boruta каждый признак сравнивается с его случайно перемешанной копией (shadow feature), что позволяет выявить признаки, которые действительно оказывают значительное влияние на модель и исключить шумовые данные. Признаки, успешно проходящие тест на важность, получают метку \"отобран\", а все остальные - помечаются как нерелевантные. "
   ],
   "id": "dc98cabbdb839f3f"
  },
  {
   "metadata": {},
   "cell_type": "markdown",
   "source": [
    "## Очистка данных\n",
    "Стандартный pipeline очистки, включающий:\n",
    "1) Удаление выбросов IQR-методом по целевому признаку LogP.\n",
    "2) Фильтрация некорректных SMILES.\n",
    "3) Удаление дубликатов SMILES."
   ],
   "id": "a7c9c61df2cfb8c4"
  },
  {
   "metadata": {
    "ExecuteTime": {
     "end_time": "2025-04-22T22:16:51.415989Z",
     "start_time": "2025-04-22T22:16:51.406817Z"
    }
   },
   "cell_type": "code",
   "source": [
    "def iqr_remove_outliers(df):\n",
    "    logp_values = df['LogP']\n",
    "\n",
    "    Q1 = np.percentile(logp_values, 25)\n",
    "    Q3 = np.percentile(logp_values, 75)\n",
    "    IQR = Q3 - Q1\n",
    "\n",
    "    lower_bound = Q1 - 1.5 * IQR\n",
    "    upper_bound = Q3 + 1.5 * IQR\n",
    "\n",
    "    df_clear = df[(logp_values >= lower_bound) & (logp_values <= upper_bound)]\n",
    "    print(f\"Number of outliers removed: {len(df) - len(df_clear)}\")\n",
    "    return df_clear\n",
    "\n",
    "\n",
    "def remove_invalid_molecules(df):\n",
    "    invalid_smiles_indices = []\n",
    "    for index, row in df.iterrows():\n",
    "        mol = Chem.MolFromSmiles(row['SMILES'])\n",
    "        if mol is None:\n",
    "            invalid_smiles_indices.append(index)\n",
    "\n",
    "    df_clear = df.drop(invalid_smiles_indices).reset_index(drop=True)\n",
    "    print(f\"Number of invalid SMILES removed: {len(invalid_smiles_indices)}\")\n",
    "    return df_clear\n",
    "\n",
    "\n",
    "def remove_duplicate_molecules(df):\n",
    "    smiles_counts = df['SMILES'].value_counts()\n",
    "    duplicates = smiles_counts[smiles_counts > 1].index\n",
    "    df_clear = df[~df['SMILES'].isin(duplicates)]\n",
    "\n",
    "    print(f\"Number of duplicate SMILES removed: {len(duplicates)}\")\n",
    "    return df_clear"
   ],
   "id": "827e959b3c3de0e4",
   "outputs": [],
   "execution_count": 55
  },
  {
   "metadata": {
    "ExecuteTime": {
     "end_time": "2025-04-22T22:16:51.444238Z",
     "start_time": "2025-04-22T22:16:51.416994Z"
    }
   },
   "cell_type": "code",
   "source": [
    "df = pd.read_csv('./data/final_train_data80.csv')\n",
    "df = iqr_remove_outliers(df)\n",
    "df = remove_invalid_molecules(df)\n",
    "df = remove_duplicate_molecules(df)"
   ],
   "id": "db9c9ee14c1d5277",
   "outputs": [
    {
     "name": "stdout",
     "output_type": "stream",
     "text": [
      "Number of outliers removed: 0\n",
      "Number of invalid SMILES removed: 0\n",
      "Number of duplicate SMILES removed: 0\n"
     ]
    }
   ],
   "execution_count": 56
  },
  {
   "metadata": {},
   "cell_type": "markdown",
   "source": [
    "## Вычисление молекулярных дескрипторов\n",
    "Для описания химической структуры молекул были использованы два набора дескрипторов:\n",
    "\n",
    "- RDKit-дескрипторы\n",
    "Содержат топологические, физико-химические и геометрические характеристики.\n",
    "\n",
    "- Mordred-дескрипторы\n",
    "Обширный набор (~1800 признаков), включая более редкие и специализированные характеристики."
   ],
   "id": "33c866d8b34f42e6"
  },
  {
   "metadata": {
    "ExecuteTime": {
     "end_time": "2025-04-22T22:16:51.451174Z",
     "start_time": "2025-04-22T22:16:51.446334Z"
    }
   },
   "cell_type": "code",
   "source": [
    "def smiles_to_mols(smiles_list):\n",
    "    return [Chem.MolFromSmiles(smi) for smi in smiles_list if Chem.MolFromSmiles(smi) is not None]\n",
    "\n",
    "def compute_rdkit_descriptors(mol_list):\n",
    "    return pd.DataFrame([{desc[0]: desc[1](mol) for desc in Descriptors.descList} for mol in mol_list])\n",
    "\n",
    "def compute_mordred_descriptors(mol_list):\n",
    "    calc = Calculator(descriptors, ignore_3D=True)\n",
    "    results = []\n",
    "    for mol in tqdm(mol_list, desc=\"Calculating Mordred descriptors\"):\n",
    "        desc = calc(mol)\n",
    "        results.append(dict(desc))\n",
    "    df = pd.DataFrame(results)\n",
    "    return df\n",
    "\n",
    "def clean_data(df):\n",
    "   df = df.replace([np.inf, -np.inf], np.nan).dropna(axis=1)\n",
    "   df = df.select_dtypes(include=[np.number])\n",
    "   df_clear = df.rename(str, axis=\"columns\") \n",
    "   return df_clear"
   ],
   "id": "a3222b4bd215bd7d",
   "outputs": [],
   "execution_count": 57
  },
  {
   "metadata": {
    "ExecuteTime": {
     "end_time": "2025-04-22T22:16:52.670306Z",
     "start_time": "2025-04-22T22:16:51.452899Z"
    }
   },
   "cell_type": "code",
   "source": [
    "smiles_list = df.loc[:, 'SMILES'].values\n",
    "targets = df.loc[:, 'LogP'].values\n",
    "\n",
    "mols_list = smiles_to_mols(smiles_list)\n",
    "rdkit_df = compute_rdkit_descriptors(mols_list)\n",
    "mordred_df = compute_mordred_descriptors(mols_list)\n",
    "\n",
    "rdkit_x = clean_data(rdkit_df)\n",
    "mordred_x = clean_data(mordred_df)\n",
    "y = np.array(targets[:len(rdkit_x)])"
   ],
   "id": "62c2c693745b1cef",
   "outputs": [
    {
     "name": "stderr",
     "output_type": "stream",
     "text": [
      "Calculating Mordred descriptors: 100%|██████████| 10/10 [00:01<00:00,  9.60it/s]\n"
     ]
    }
   ],
   "execution_count": 58
  },
  {
   "metadata": {},
   "cell_type": "markdown",
   "source": [
    "## Отбор признаков\n",
    "Дескрипторы, извлечённые с помощью RDKit и Mordred, обрабатываются по отдельности, поскольку некоторые параметры, вычисляемые этими библиотеками, являются идентичными. В случае их совместного использования возникает высокая корреляция между признаками, что приводит к мультиколлинеарности. Это негативно сказывается на отборе признаков. Разделение этих дескрипторов на два отдельных набора позволяет снизить избыточность признаков и обеспечить более точный и эффективный отбор, улучшая предсказательную способность моделей.\n",
    "\n",
    "Результаты сохраняются в .csv файлах rdkit/mordred_selected_desc.csv. Финальный отбор происходит в ручном формате: отбираем самые влиятельные параметры, исключаем дубликаты и признаки с высокой корреляцией."
   ],
   "id": "830e9c83efccd7f6"
  },
  {
   "metadata": {
    "ExecuteTime": {
     "end_time": "2025-04-22T22:16:52.677407Z",
     "start_time": "2025-04-22T22:16:52.670306Z"
    }
   },
   "cell_type": "code",
   "source": [
    "def xgboost_feature_ranking(X, y):\n",
    "    X_scaled = StandardScaler().fit_transform(X)\n",
    "    model = xgb.XGBRegressor(n_estimators=300, learning_rate=0.01, max_depth=5, random_state=666, n_jobs=-1)\n",
    "    model.fit(X_scaled, y)\n",
    "    importances = model.feature_importances_\n",
    "    importance_df = pd.DataFrame({\n",
    "        'feature': X.columns,\n",
    "        'importance': importances\n",
    "    }).sort_values(by='importance', ascending=False)\n",
    "    return importance_df"
   ],
   "id": "3ce2a1fe2d3ae25c",
   "outputs": [],
   "execution_count": 59
  },
  {
   "metadata": {
    "ExecuteTime": {
     "end_time": "2025-04-22T22:16:52.683741Z",
     "start_time": "2025-04-22T22:16:52.678412Z"
    }
   },
   "cell_type": "code",
   "source": [
    "def boruta_feature_ranking(X, y):\n",
    "    X_scaled = StandardScaler().fit_transform(X)\n",
    "    rf = RandomForestRegressor(n_jobs=-1, max_depth=5, random_state=666)\n",
    "    boruta_selector = BorutaPy(rf, n_estimators='auto', verbose=0, random_state=666)\n",
    "    boruta_selector.fit(X_scaled, y)\n",
    "    selected = boruta_selector.support_\n",
    "    ranked = boruta_selector.ranking_\n",
    "    feature_ranks = pd.DataFrame({\n",
    "        'feature': X.columns,\n",
    "        'rank': ranked,\n",
    "        'selected': selected\n",
    "    }).sort_values(by='rank')\n",
    "    return feature_ranks"
   ],
   "id": "a832e9a30bd4e55c",
   "outputs": [],
   "execution_count": 60
  },
  {
   "metadata": {
    "ExecuteTime": {
     "end_time": "2025-04-22T22:17:30.040681Z",
     "start_time": "2025-04-22T22:16:52.683741Z"
    }
   },
   "cell_type": "code",
   "source": [
    "rdkit_xgb_importances = xgboost_feature_ranking(rdkit_x, y)\n",
    "rdkit_boruta_results = boruta_feature_ranking(rdkit_x, y)\n",
    "\n",
    "mordred_xgb_importances = xgboost_feature_ranking(mordred_x, y)\n",
    "mordred_boruta_results = boruta_feature_ranking(mordred_x, y)"
   ],
   "id": "d67d9faa583706c6",
   "outputs": [],
   "execution_count": 61
  },
  {
   "metadata": {
    "ExecuteTime": {
     "end_time": "2025-04-22T22:17:30.059005Z",
     "start_time": "2025-04-22T22:17:30.041595Z"
    }
   },
   "cell_type": "code",
   "source": [
    "merged_df = pd.merge(rdkit_xgb_importances, rdkit_boruta_results, on=\"feature\", how=\"outer\")\n",
    "merged_df = merged_df.sort_values(by=\"importance\", ascending=False)\n",
    "merged_df.to_csv(\"./data/rdkit_selected_desc.csv\", index=False)\n",
    "\n",
    "merged_df = pd.merge(mordred_xgb_importances, mordred_boruta_results, on=\"feature\", how=\"outer\")\n",
    "merged_df = merged_df.sort_values(by=\"importance\", ascending=False)\n",
    "merged_df.to_csv(\"./data/mordred_selected_desc.csv\", index=False)"
   ],
   "id": "c166b3fed48c9a4a",
   "outputs": [],
   "execution_count": 62
  }
 ],
 "metadata": {
  "kernelspec": {
   "display_name": "Python 3",
   "language": "python",
   "name": "python3"
  },
  "language_info": {
   "codemirror_mode": {
    "name": "ipython",
    "version": 2
   },
   "file_extension": ".py",
   "mimetype": "text/x-python",
   "name": "python",
   "nbconvert_exporter": "python",
   "pygments_lexer": "ipython2",
   "version": "2.7.6"
  }
 },
 "nbformat": 4,
 "nbformat_minor": 5
}
